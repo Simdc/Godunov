import numpy as np
import matplotlib.pyplot as plt

# Constants
dx = 0.1
T_MAX = 50
N = 102

# Initial conditions
h = np.array([1]*51 + [0.09]*51)
u = np.zeros(N)
hu = h * u

initial_height = h.copy()
initial_velocity = u.copy()

def wave_speed(momentum, height):
    velocity = np.where(height != 0, momentum / height, 0)
    speed_plus = velocity + np.sqrt(height)
    speed_minus = velocity - np.sqrt(height)
    return np.round(np.maximum(np.abs(speed_plus), np.abs(speed_minus)), 4)

def shock_speed(A, B):
    return np.where((A != 0) & (B != 0), np.abs(A / B), 0)

def interface_values(Q_1, Q_2, slope_Q_1, dx):
    c = np.where(Q_1 > Q_2, 1, -1)
    return np.round(Q_1 - c * np.abs(slope_Q_1) * dx / 2, 2)

def slope(Q1, Q2, direction, dx):
    c = 1 if direction == "right" else -1
    return (Q2 - Q1) / (c * dx)

def time_CFL_consistency(CFL, dt, dx, max_speed):
    if CFL >= 1:
        print("Warning: CFL value crossed 1")
        while CFL >= 1:
            dt -= 0.05
            CFL = dt / dx * max_speed
        print(f"New time step: {dt}, new CFL: {CFL}")
    return dt


def upwind_flux(h_L, h_R, hu_L, hu_R):
    # Compute velocities
    u_L = np.where(h_L > 0, hu_L / h_L, 0)
    u_R = np.where(h_R > 0, hu_R / h_R, 0)

    # Compute wave speeds
    c_L = np.abs(u_L) + np.sqrt(h_L)
    c_R = np.abs(u_R) + np.sqrt(h_R)
    c_max = np.maximum(c_L, c_R)

    # Compute fluxes
    F_L = np.vstack([hu_L, hu_L**2/np.where(h_L > 0, h_L, 1) + 0.5*h_L**2])
    F_R = np.vstack([hu_R, hu_R**2/np.where(h_R > 0, h_R, 1) + 0.5*h_R**2])

    # Compute upwind flux
    Q_L = np.vstack([h_L, hu_L])
    Q_R = np.vstack([h_R, hu_R])
    F_upwind = 0.5 * (F_L + F_R - c_max[np.newaxis, :] * (Q_R - Q_L))

    return F_upwind[0], F_upwind[1]


T = 0
solution = []
while T < T_MAX:
    # Calculate fluxes for all interfaces
    Fl_con, Fl_mom = upwind_flux(h[:-1], h[1:], hu[:-1], hu[1:])

    # Calculate maximum wave speed
    max_speed = np.max(wave_speed(hu, h))

    # Calculate time step
    dt = 0.8 * dx / max_speed  # Using CFL number of 0.8 for stability

    # Update interior points
    h[1:-1] -= dt / dx * (Fl_con[1:] - Fl_con[:-1])
    hu[1:-1] -= dt / dx * (Fl_mom[1:] - Fl_mom[:-1])

    # Apply boundary conditions (e.g., reflective)
    h[0], h[-1] = h[1], h[-2]
    hu[0], hu[-1] = -hu[1], -hu[-2]

    # Update velocity
    u = np.where(h > 1e-6, hu / h, 0)
    solution.append(np.copy(h))
    # Plot
    # plt.clf()
    # plt.plot(u)
    # plt.title(f"Time step: {T}")
    # plt.xlabel("Position")
    # plt.ylabel("Height")
    # plt.ylim(0, 1.2)
    # plt.pause(0.01)

    T += 1

for i in np.arange(1,T,9):
    plt.plot(solution[i])
